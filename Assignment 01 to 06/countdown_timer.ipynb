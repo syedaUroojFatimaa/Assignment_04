{
  "nbformat": 4,
  "nbformat_minor": 0,
  "metadata": {
    "colab": {
      "provenance": [],
      "authorship_tag": "ABX9TyPqOVUpwEuPCFXkjhYGPbi2",
      "include_colab_link": true
    },
    "kernelspec": {
      "name": "python3",
      "display_name": "Python 3"
    },
    "language_info": {
      "name": "python"
    }
  },
  "cells": [
    {
      "cell_type": "markdown",
      "metadata": {
        "id": "view-in-github",
        "colab_type": "text"
      },
      "source": [
        "<a href=\"https://colab.research.google.com/github/syedaUroojFatimaa/Assignment_04/blob/main/countdown_timer.ipynb\" target=\"_parent\"><img src=\"https://colab.research.google.com/assets/colab-badge.svg\" alt=\"Open In Colab\"/></a>"
      ]
    },
    {
      "cell_type": "code",
      "execution_count": 1,
      "metadata": {
        "colab": {
          "base_uri": "https://localhost:8080/"
        },
        "id": "dCyQyVFHz6I1",
        "outputId": "8e936f79-09d0-40a9-b320-75441e6003bd"
      },
      "outputs": [
        {
          "output_type": "stream",
          "name": "stdout",
          "text": [
            "⏱️ Starting countdown for 10 seconds...\n",
            "\n",
            "⏰ Time's up!            \n"
          ]
        }
      ],
      "source": [
        "import time\n",
        "import sys\n",
        "\n",
        "def countdown_timer(seconds):\n",
        "    print(f\"⏱️ Starting countdown for {seconds} seconds...\\n\")\n",
        "    while seconds:\n",
        "        mins, secs = divmod(seconds, 60)\n",
        "        timer = f\"{mins:02d}:{secs:02d}\"\n",
        "        print(f\"\\r⏳ {timer}\", end='')\n",
        "        time.sleep(1)\n",
        "        seconds -= 1\n",
        "    print(\"\\r⏰ Time's up!            \")\n",
        "\n",
        "# Example: 10-second countdown\n",
        "countdown_timer(10)\n"
      ]
    }
  ]
}