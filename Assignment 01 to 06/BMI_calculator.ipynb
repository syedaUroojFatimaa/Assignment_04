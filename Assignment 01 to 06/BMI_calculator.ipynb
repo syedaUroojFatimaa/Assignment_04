{
  "nbformat": 4,
  "nbformat_minor": 0,
  "metadata": {
    "colab": {
      "provenance": [],
      "authorship_tag": "ABX9TyMUmxm/V4xQ04ipVx30lYNY",
      "include_colab_link": true
    },
    "kernelspec": {
      "name": "python3",
      "display_name": "Python 3"
    },
    "language_info": {
      "name": "python"
    }
  },
  "cells": [
    {
      "cell_type": "markdown",
      "metadata": {
        "id": "view-in-github",
        "colab_type": "text"
      },
      "source": [
        "<a href=\"https://colab.research.google.com/github/syedaUroojFatimaa/Assignment_04/blob/main/BMI_calculator.ipynb\" target=\"_parent\"><img src=\"https://colab.research.google.com/assets/colab-badge.svg\" alt=\"Open In Colab\"/></a>"
      ]
    },
    {
      "cell_type": "code",
      "execution_count": 1,
      "metadata": {
        "id": "UkdEi-kE_61p",
        "colab": {
          "base_uri": "https://localhost:8080/"
        },
        "outputId": "1a168a92-32bc-47ef-bc03-fbb5998e8c4d"
      },
      "outputs": [
        {
          "output_type": "stream",
          "name": "stdout",
          "text": [
            "### BMI Calculator ###\n",
            "Enter your height (in cm): 154\n",
            "Enter your weight (in kg): 50\n",
            "Your BMI is: 21.08\n",
            "\n",
            "### BMI Categories ###\n",
            "Underweight: BMI less than 18.5\n",
            "Normalweight: BMI between 18.5 and 24.9\n",
            "Overweight: BMI between 25 and 29.9\n",
            "Obesity: BMI 30 or greater\n",
            "\n",
            "Your BMI category is: Normalweight\n"
          ]
        }
      ],
      "source": [
        "import pandas as pd\n",
        "import numpy as np\n",
        "\n",
        "# Display title\n",
        "print(\"### BMI Calculator ###\")\n",
        "\n",
        "# Get user input for height and weight\n",
        "height = float(input(\"Enter your height (in cm): \"))\n",
        "weight = float(input(\"Enter your weight (in kg): \"))\n",
        "\n",
        "# Convert height to meters\n",
        "height_in_meters = height / 100\n",
        "\n",
        "# Calculate BMI\n",
        "bmi = weight / (height_in_meters ** 2)\n",
        "\n",
        "# Display BMI result\n",
        "print(f\"Your BMI is: {bmi:.2f}\")\n",
        "\n",
        "# Display BMI categories\n",
        "print(\"\\n### BMI Categories ###\")\n",
        "print(\"Underweight: BMI less than 18.5\")\n",
        "print(\"Normalweight: BMI between 18.5 and 24.9\")\n",
        "print(\"Overweight: BMI between 25 and 29.9\")\n",
        "print(\"Obesity: BMI 30 or greater\")\n",
        "\n",
        "# Determine BMI category\n",
        "if bmi < 18.5:\n",
        "    category = \"Underweight\"\n",
        "elif 18.5 <= bmi <= 24.9:\n",
        "    category = \"Normalweight\"\n",
        "elif 25 <= bmi <= 29.9:\n",
        "    category = \"Overweight\"\n",
        "else:\n",
        "    category = \"Obesity\"\n",
        "\n",
        "print(f\"\\nYour BMI category is: {category}\")\n"
      ]
    }
  ]
}