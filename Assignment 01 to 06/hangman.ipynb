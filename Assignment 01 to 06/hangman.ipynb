{
  "nbformat": 4,
  "nbformat_minor": 0,
  "metadata": {
    "colab": {
      "provenance": [],
      "authorship_tag": "ABX9TyOGv5aktFBYRk8Ob8eGkBMq",
      "include_colab_link": true
    },
    "kernelspec": {
      "name": "python3",
      "display_name": "Python 3"
    },
    "language_info": {
      "name": "python"
    }
  },
  "cells": [
    {
      "cell_type": "markdown",
      "metadata": {
        "id": "view-in-github",
        "colab_type": "text"
      },
      "source": [
        "<a href=\"https://colab.research.google.com/github/syedaUroojFatimaa/Assignment_04/blob/main/hangman.ipynb\" target=\"_parent\"><img src=\"https://colab.research.google.com/assets/colab-badge.svg\" alt=\"Open In Colab\"/></a>"
      ]
    },
    {
      "cell_type": "code",
      "execution_count": null,
      "metadata": {
        "colab": {
          "base_uri": "https://localhost:8080/"
        },
        "id": "WEoAiV3iyA6F",
        "outputId": "56c78add-00df-4441-9d86-c8cba73e4e51"
      },
      "outputs": [
        {
          "output_type": "stream",
          "name": "stdout",
          "text": [
            "🎯 Welcome to HANGMAN with visuals!\n",
            "\n",
            "       +---+\n",
            "       |   |\n",
            "           |\n",
            "           |\n",
            "           |\n",
            "           |\n",
            "    =========\n",
            "Word:  _ _ _ _ _ _ _ _ _\n",
            "Guessed Letters:  \n"
          ]
        }
      ],
      "source": [
        "import random\n",
        "\n",
        "stages = [\n",
        "    '''\n",
        "       +---+\n",
        "       |   |\n",
        "           |\n",
        "           |\n",
        "           |\n",
        "           |\n",
        "    =========''',  # 6 tries left\n",
        "    '''\n",
        "       +---+\n",
        "       |   |\n",
        "       O   |\n",
        "           |\n",
        "           |\n",
        "           |\n",
        "    =========''',  # 5\n",
        "    '''\n",
        "       +---+\n",
        "       |   |\n",
        "       O   |\n",
        "       |   |\n",
        "           |\n",
        "           |\n",
        "    =========''',  # 4\n",
        "    '''\n",
        "       +---+\n",
        "       |   |\n",
        "       O   |\n",
        "      /|   |\n",
        "           |\n",
        "           |\n",
        "    =========''',  # 3\n",
        "    '''\n",
        "       +---+\n",
        "       |   |\n",
        "       O   |\n",
        "      /|\\  |\n",
        "           |\n",
        "           |\n",
        "    =========''',  # 2\n",
        "    '''\n",
        "       +---+\n",
        "       |   |\n",
        "       O   |\n",
        "      /|\\  |\n",
        "      /    |\n",
        "           |\n",
        "    =========''',  # 1\n",
        "    '''\n",
        "       +---+\n",
        "       |   |\n",
        "       O   |\n",
        "      /|\\  |\n",
        "      / \\  |\n",
        "           |\n",
        "    =========''',  # 0 - DEAD\n",
        "]\n",
        "\n",
        "def hangman():\n",
        "    word_list = ['hangman', 'streamlit', 'google', 'python', 'colab', 'data', 'science']\n",
        "    word = random.choice(word_list)\n",
        "    guessed_letters = []\n",
        "    tries = 6\n",
        "    print(\"🎯 Welcome to HANGMAN with visuals!\")\n",
        "\n",
        "    while tries > 0:\n",
        "        print(stages[6 - tries])\n",
        "        display_word = [letter if letter in guessed_letters else '_' for letter in word]\n",
        "        print(\"Word: \", ' '.join(display_word))\n",
        "        print(\"Guessed Letters: \", ' '.join(guessed_letters))\n",
        "\n",
        "        if '_' not in display_word:\n",
        "            print(\"🎉 Congratulations! You guessed the word:\", word)\n",
        "            break\n",
        "\n",
        "        guess = input(\"👉 Enter a letter: \").lower()\n",
        "\n",
        "        if not guess.isalpha() or len(guess) != 1:\n",
        "            print(\"⚠️ Invalid input. Please enter a single alphabetical letter.\")\n",
        "            continue\n",
        "\n",
        "        if guess in guessed_letters:\n",
        "            print(\"🔁 You've already guessed that letter.\")\n",
        "            continue\n",
        "\n",
        "        guessed_letters.append(guess)\n",
        "\n",
        "        if guess not in word:\n",
        "            tries -= 1\n",
        "            print(f\"❌ Wrong! {tries} tries left.\")\n",
        "\n",
        "    else:\n",
        "        print(stages[-1])\n",
        "        print(f\"💀 You lost! The correct word was: {word}\")\n",
        "\n",
        "hangman()\n"
      ]
    }
  ]
}