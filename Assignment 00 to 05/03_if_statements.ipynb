{
  "nbformat": 4,
  "nbformat_minor": 0,
  "metadata": {
    "colab": {
      "provenance": [],
      "authorship_tag": "ABX9TyPXjwITlC9eBsuCP4nEOiK/",
      "include_colab_link": true
    },
    "kernelspec": {
      "name": "python3",
      "display_name": "Python 3"
    },
    "language_info": {
      "name": "python"
    }
  },
  "cells": [
    {
      "cell_type": "markdown",
      "metadata": {
        "id": "view-in-github",
        "colab_type": "text"
      },
      "source": [
        "<a href=\"https://colab.research.google.com/github/syedaUroojFatimaa/Assignment_04/blob/main/03_if_statements.ipynb\" target=\"_parent\"><img src=\"https://colab.research.google.com/assets/colab-badge.svg\" alt=\"Open In Colab\"/></a>"
      ]
    },
    {
      "cell_type": "code",
      "execution_count": 1,
      "metadata": {
        "colab": {
          "base_uri": "https://localhost:8080/"
        },
        "id": "LQbQttvU_8mg",
        "outputId": "1f7fac2e-50b1-4a7c-cc22-96a709c6df17"
      },
      "outputs": [
        {
          "output_type": "stream",
          "name": "stdout",
          "text": [
            "0\n",
            "2\n",
            "4\n",
            "6\n",
            "8\n",
            "10\n",
            "12\n",
            "14\n",
            "16\n",
            "18\n",
            "20\n",
            "22\n",
            "24\n",
            "26\n",
            "28\n",
            "30\n",
            "32\n",
            "34\n",
            "36\n",
            "38\n"
          ]
        }
      ],
      "source": [
        "def main():\n",
        "    for i in range(20):\n",
        "        print(i * 2)\n",
        "if __name__ == \"__main__\":\n",
        "    main()"
      ]
    },
    {
      "cell_type": "code",
      "source": [
        "VOTING_AGES = {\n",
        "    \"Peturksbouipo\": 16,\n",
        "    \"Stanlau\": 25,\n",
        "    \"Mayengua\": 48\n",
        "}\n",
        "\n",
        "def main():\n",
        "    try:\n",
        "        user_age = int(input(\"How old are you? \"))\n",
        "\n",
        "        for country, age in VOTING_AGES.items():\n",
        "            if user_age >= age:\n",
        "                print(f\"You can vote in {country} where the voting age is {age}.\")\n",
        "            else:\n",
        "                print(f\"You cannot vote in {country} where the voting age is {age}.\")\n",
        "\n",
        "    except ValueError:\n",
        "        print(\"Invalid input. Please enter a valid number.\")\n",
        "\n",
        "if __name__ == '__main__':\n",
        "    main()\n"
      ],
      "metadata": {
        "colab": {
          "base_uri": "https://localhost:8080/"
        },
        "id": "mXtyZYBaArsI",
        "outputId": "72db1e25-91b8-46d8-f43d-542ea7ce0c92"
      },
      "execution_count": 2,
      "outputs": [
        {
          "output_type": "stream",
          "name": "stdout",
          "text": [
            "How old are you? 18\n",
            "You can vote in Peturksbouipo where the voting age is 16.\n",
            "You cannot vote in Stanlau where the voting age is 25.\n",
            "You cannot vote in Mayengua where the voting age is 48.\n"
          ]
        }
      ]
    },
    {
      "cell_type": "code",
      "source": [
        "def is_leap_year(year: int) -> bool:\n",
        "    \"\"\"Returns True if the given year is a leap year, otherwise False.\"\"\"\n",
        "    return (year % 4 == 0 and year % 100 != 0) or (year % 400 == 0)\n",
        "\n",
        "def main():\n",
        "    try:\n",
        "        year = int(input(\"Please input a year: \"))\n",
        "\n",
        "        if is_leap_year(year):\n",
        "            print(\"That's a leap year!\")\n",
        "        else:\n",
        "            print(\"That's not a leap year.\")\n",
        "\n",
        "    except ValueError:\n",
        "        print(\"Invalid input. Please enter a valid year.\")\n",
        "\n",
        "if __name__ == '__main__':\n",
        "    main()\n"
      ],
      "metadata": {
        "colab": {
          "base_uri": "https://localhost:8080/"
        },
        "id": "ECF-DoVbBDba",
        "outputId": "f7d5b9b7-2889-4327-ed6a-f75ebab0300b"
      },
      "execution_count": 4,
      "outputs": [
        {
          "output_type": "stream",
          "name": "stdout",
          "text": [
            "Please input a year: 2024\n",
            "That's a leap year!\n"
          ]
        }
      ]
    },
    {
      "cell_type": "code",
      "source": [
        "MINIMUM_HEIGHT = 50  # Minimum height required to ride\n",
        "\n",
        "def check_height():\n",
        "    \"\"\"Continuously asks for height and determines eligibility until the user exits.\"\"\"\n",
        "    while True:\n",
        "        user_input = input(\"How tall are you? (Press Enter to exit) \")\n",
        "\n",
        "        if user_input.strip() == \"\":\n",
        "            print(\"Goodbye!\")\n",
        "            break\n",
        "\n",
        "        try:\n",
        "            height = float(user_input)\n",
        "            if height >= MINIMUM_HEIGHT:\n",
        "                print(\"You're tall enough to ride!\")\n",
        "            else:\n",
        "                print(\"You're not tall enough to ride, but maybe next year!\")\n",
        "        except ValueError:\n",
        "            print(\"Invalid input. Please enter a valid height.\")\n",
        "\n",
        "def main():\n",
        "    check_height()\n",
        "\n",
        "if __name__ == '__main__':\n",
        "    main()\n"
      ],
      "metadata": {
        "colab": {
          "base_uri": "https://localhost:8080/"
        },
        "id": "e7ZpsBATB47N",
        "outputId": "ea422856-5cd1-45f3-9dc2-e7218c459305"
      },
      "execution_count": 5,
      "outputs": [
        {
          "output_type": "stream",
          "name": "stdout",
          "text": [
            "How tall are you? (Press Enter to exit) 152\n",
            "You're tall enough to ride!\n",
            "How tall are you? (Press Enter to exit) 23\n",
            "You're not tall enough to ride, but maybe next year!\n",
            "How tall are you? (Press Enter to exit) \n",
            "Goodbye!\n"
          ]
        }
      ]
    },
    {
      "cell_type": "code",
      "source": [
        "import random\n",
        "\n",
        "N_NUMBERS = 10  # Number of random numbers to generate\n",
        "MIN_VALUE = 1   # Minimum value (inclusive)\n",
        "MAX_VALUE = 100 # Maximum value (inclusive)\n",
        "\n",
        "def main():\n",
        "    for _ in range(N_NUMBERS):\n",
        "        print(random.randint(MIN_VALUE, MAX_VALUE))\n",
        "\n",
        "if __name__ == '__main__':\n",
        "    main()\n"
      ],
      "metadata": {
        "colab": {
          "base_uri": "https://localhost:8080/"
        },
        "id": "jGIiaDsCCQ0b",
        "outputId": "36b75830-94a2-4c9c-a0c4-3cde3d2400f7"
      },
      "execution_count": 10,
      "outputs": [
        {
          "output_type": "stream",
          "name": "stdout",
          "text": [
            "86\n",
            "1\n",
            "73\n",
            "66\n",
            "10\n",
            "35\n",
            "90\n",
            "93\n",
            "10\n",
            "11\n"
          ]
        }
      ]
    }
  ]
}