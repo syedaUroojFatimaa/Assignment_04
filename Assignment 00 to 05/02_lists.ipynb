{
  "cells": [
    {
      "cell_type": "markdown",
      "metadata": {
        "id": "view-in-github",
        "colab_type": "text"
      },
      "source": [
        "<a href=\"https://colab.research.google.com/github/syedaUroojFatimaa/Assignment_04/blob/main/02_lists.ipynb\" target=\"_parent\"><img src=\"https://colab.research.google.com/assets/colab-badge.svg\" alt=\"Open In Colab\"/></a>"
      ]
    },
    {
      "cell_type": "code",
      "execution_count": null,
      "metadata": {
        "colab": {
          "base_uri": "https://localhost:8080/"
        },
        "id": "lrxf9oQEThIj",
        "outputId": "eacab4ec-dd5f-4eaa-86c3-662b65444fd2"
      },
      "outputs": [
        {
          "name": "stdout",
          "output_type": "stream",
          "text": [
            "21\n"
          ]
        }
      ],
      "source": [
        "def add_many_numbers(numbers)-> int:\n",
        "\n",
        "    total_so_far: int = 0\n",
        "    for number in numbers:\n",
        "        total_so_far += number\n",
        "\n",
        "    return total_so_far\n",
        "\n",
        "\n",
        "def main():\n",
        "    numbers: list[int] = [3, 2, 3, 4, 9]\n",
        "    sum_of_numbers: int = add_many_numbers(numbers)\n",
        "    print(sum_of_numbers)\n",
        "\n",
        "\n",
        "if __name__ == '__main__':\n",
        "    main()"
      ]
    },
    {
      "cell_type": "code",
      "execution_count": null,
      "metadata": {
        "colab": {
          "base_uri": "https://localhost:8080/"
        },
        "id": "6f8aIkgrUJgY",
        "outputId": "e0e80225-ea9d-4fe9-853b-531d4f8f8988"
      },
      "outputs": [
        {
          "name": "stdout",
          "output_type": "stream",
          "text": [
            "[2, 4, 6, 12]\n"
          ]
        }
      ],
      "source": [
        "def main():\n",
        "    numbers: list[int] = [1, 2, 3, 6]\n",
        "\n",
        "    for i in range(len(numbers)):\n",
        "        elem_at_index = numbers[i]\n",
        "        numbers[i] = elem_at_index * 2\n",
        "    print(numbers)\n",
        "\n",
        "if __name__ == '__main__':\n",
        "    main()"
      ]
    },
    {
      "cell_type": "code",
      "execution_count": 4,
      "metadata": {
        "colab": {
          "base_uri": "https://localhost:8080/",
          "height": 503,
          "referenced_widgets": [
            "4584e45efd4443ab82d0853ad8bb69ac",
            "4d13783d24584b22b3d89669b3d37f8e",
            "1cdbafa5b0a641309058e4cb914d1c71",
            "5d7c6298da40498f9b298c03bb37eee6",
            "3e392fcd3cdd48a2a53ed57f174e06d1",
            "1953b9cb7eff4585b2540899417f9cca",
            "2fc78c5db92240ea9498df1fdee58b39",
            "b51e47230df940eca424e9b607f0f4b4",
            "c6f420b1dd384dbeaccae4d78b789bce",
            "c90b9f62c1df4c32a36fad9ca380f48d"
          ]
        },
        "id": "V_se8qUEUaMi",
        "outputId": "1afca6b2-9399-4bd4-b06c-301dc648f1d2"
      },
      "outputs": [
        {
          "output_type": "display_data",
          "data": {
            "text/plain": [
              "interactive(children=(IntSlider(value=0, description='mouse_x', max=200, step=5), IntSlider(value=0, descripti…"
            ],
            "application/vnd.jupyter.widget-view+json": {
              "version_major": 2,
              "version_minor": 0,
              "model_id": "4584e45efd4443ab82d0853ad8bb69ac"
            }
          },
          "metadata": {}
        },
        {
          "output_type": "display_data",
          "data": {
            "text/plain": [
              "<Figure size 500x500 with 1 Axes>"
            ],
            "image/png": "[encoded data removed]"
          },
          "metadata": {}
        }
      ],
      "source": [
        "import matplotlib.pyplot as plt\n",
        "import numpy as np\n",
        "from ipywidgets import interactive\n",
        "from IPython.display import display\n",
        "\n",
        "CANVAS_SIZE = 200\n",
        "CELL_SIZE = 40\n",
        "ERASER_SIZE = 20\n",
        "\n",
        "rows = CANVAS_SIZE // CELL_SIZE\n",
        "cols = CANVAS_SIZE // CELL_SIZE\n",
        "\n",
        "grid = np.ones((rows, cols, 3))\n",
        "grid[:, :] = [0, 0, 1]\n",
        "\n",
        "fig, ax = plt.subplots(figsize=(5, 5))\n",
        "ax.set_xticks([])\n",
        "ax.set_yticks([])\n",
        "ax.set_xlim(0, cols)\n",
        "ax.set_ylim(0, rows)\n",
        "\n",
        "canvas = ax.imshow(grid, extent=[0, cols, 0, rows])\n",
        "\n",
        "def erase(mouse_x=0, mouse_y=0):\n",
        "    global grid\n",
        "    row = int(mouse_y // (CANVAS_SIZE / rows))\n",
        "    col = int(mouse_x // (CANVAS_SIZE / cols))\n",
        "\n",
        "    for i in range(-1, 2):\n",
        "        for j in range(-1, 2):\n",
        "            r, c = row + i, col + j\n",
        "            if 0 <= r < rows and 0 <= c < cols:\n",
        "                grid[r, c] = [1, 1, 1]\n",
        "\n",
        "    canvas.set_data(grid)\n",
        "    plt.draw()\n",
        "\n",
        "interactive_widget = interactive(erase, mouse_x=(0, CANVAS_SIZE, 5), mouse_y=(0, CANVAS_SIZE, 5))\n",
        "display(interactive_widget)\n"
      ]
    },
    {
      "cell_type": "code",
      "source": [
        "def add_three_copies(my_list, data):\n",
        "    for i in range(3):\n",
        "        my_list.append(data)\n",
        "\n",
        "def main():\n",
        "    message = input(\"Enter a message to copy: \")\n",
        "    my_list = []\n",
        "    print(\"List before:\", my_list)\n",
        "    add_three_copies(my_list, message)\n",
        "    print(\"List after:\", my_list)\n",
        "\n",
        "if __name__ == \"__main__\":\n",
        "    main()"
      ],
      "metadata": {
        "colab": {
          "base_uri": "https://localhost:8080/"
        },
        "id": "VybdCOoH8-oT",
        "outputId": "09701a69-ccb6-48ee-93bf-0f3d025a706b"
      },
      "execution_count": 5,
      "outputs": [
        {
          "output_type": "stream",
          "name": "stdout",
          "text": [
            "Enter a message to copy: hello i am lily\n",
            "List before: []\n",
            "List after: ['hello i am lily', 'hello i am lily', 'hello i am lily']\n"
          ]
        }
      ]
    },
    {
      "cell_type": "code",
      "source": [
        "\n",
        "def get_first_element(lst):\n",
        "    \"\"\"\n",
        "    Prints the first element of a provided list.\n",
        "    \"\"\"\n",
        "\n",
        "    print(lst[0])\n",
        "\n",
        "\n",
        "def get_lst():\n",
        "    \"\"\"\n",
        "    Prompts the user to enter one element of the list at a time and returns the resulting list.\n",
        "    \"\"\"\n",
        "    lst = []\n",
        "    elem: str = input(\"Please enter an element of the list or press enter to stop. \")\n",
        "    while elem != \"\":\n",
        "        lst.append(elem)\n",
        "        elem = input(\"Please enter an element of the list or press enter to stop. \")\n",
        "    return lst\n",
        "\n",
        "def main():\n",
        "    lst = get_lst()\n",
        "    get_first_element(lst)\n",
        "\n",
        "\n",
        "if __name__ == '__main__':\n",
        "    main()\n",
        "\n"
      ],
      "metadata": {
        "colab": {
          "base_uri": "https://localhost:8080/"
        },
        "id": "hdk4c-9m9YGc",
        "outputId": "e102c632-8259-40ea-8fe9-38c226d6b32c"
      },
      "execution_count": 7,
      "outputs": [
        {
          "output_type": "stream",
          "name": "stdout",
          "text": [
            "Please enter an element of the list or press enter to stop. tree\n",
            "Please enter an element of the list or press enter to stop. plant\n",
            "Please enter an element of the list or press enter to stop. \n",
            "tree\n"
          ]
        }
      ]
    },
    {
      "cell_type": "code",
      "source": [
        "def get_last_element(lst):\n",
        "    \"\"\"\n",
        "    Prints the last element of the provided list.\n",
        "    \"\"\"\n",
        "    print(lst[-1])\n",
        "\n",
        "\n",
        "def get_lst():\n",
        "    \"\"\"\n",
        "    Prompts the user to enter one element of the list at a time and returns the resulting list.\n",
        "    \"\"\"\n",
        "    lst = []\n",
        "    elem = input(\"Please enter an element of the list or press enter to stop: \")\n",
        "    while elem != \"\":\n",
        "        lst.append(elem)\n",
        "        elem = input(\"Please enter an element of the list or press enter to stop: \")\n",
        "    return lst\n",
        "\n",
        "def main():\n",
        "    lst = get_lst()\n",
        "    get_last_element(lst)\n",
        "\n",
        "if __name__ == '__main__':\n",
        "    main()\n"
      ],
      "metadata": {
        "colab": {
          "base_uri": "https://localhost:8080/"
        },
        "id": "wSl-NI7D-K1M",
        "outputId": "8a4ab67e-0521-46ea-c55f-45980510635b"
      },
      "execution_count": 8,
      "outputs": [
        {
          "output_type": "stream",
          "name": "stdout",
          "text": [
            "Please enter an element of the list or press enter to stop: cat\n",
            "Please enter an element of the list or press enter to stop: dog\n",
            "Please enter an element of the list or press enter to stop: rabbit\n",
            "Please enter an element of the list or press enter to stop: \n",
            "rabbit\n"
          ]
        }
      ]
    },
    {
      "cell_type": "code",
      "source": [
        "def main():\n",
        "    lst = []\n",
        "\n",
        "    val = input(\"Enter a value: \")\n",
        "    while val:\n",
        "        lst.append(val)\n",
        "        val = input(\"Enter a value or enter to stop: \")\n",
        "\n",
        "    print(\"Here's the list:\", lst)\n",
        "\n",
        "if __name__ == '__main__':\n",
        "    main()"
      ],
      "metadata": {
        "colab": {
          "base_uri": "https://localhost:8080/"
        },
        "id": "vHB4nDel-ZYF",
        "outputId": "170f10d1-ff6e-4bd0-ffa1-2210d13ca995"
      },
      "execution_count": 10,
      "outputs": [
        {
          "output_type": "stream",
          "name": "stdout",
          "text": [
            "Enter a value: tree\n",
            "Enter a value or enter to stop: plant\n",
            "Enter a value or enter to stop: seed\n",
            "Enter a value or enter to stop: flower\n",
            "Enter a value or enter to stop: \n",
            "Here's the list: ['tree', 'plant', 'seed', 'flower']\n"
          ]
        }
      ]
    },
    {
      "cell_type": "code",
      "source": [
        "MAX_LENGTH : int = 3\n",
        "\n",
        "def shorten(lst):\n",
        "    while len(lst) > MAX_LENGTH:\n",
        "        last_elem = lst.pop()\n",
        "        print(last_elem)\n",
        "\n",
        "def get_lst():\n",
        "    \"\"\"\n",
        "    Prompts the user to enter one element of the list at a time and returns the resulting list.\n",
        "    \"\"\"\n",
        "    lst = []\n",
        "    elem = input(\"Please enter an element of the list or press enter to stop. \")\n",
        "    while elem != \"\":\n",
        "        lst.append(elem)\n",
        "        elem = input(\"Please enter an element of the list or press enter to stop. \")\n",
        "    return lst\n",
        "\n",
        "def main():\n",
        "    lst = get_lst()\n",
        "    shorten(lst)\n",
        "\n",
        "\n",
        "if __name__ == '__main__':\n",
        "    main()"
      ],
      "metadata": {
        "colab": {
          "base_uri": "https://localhost:8080/"
        },
        "id": "ka4Vfk4g_Sbo",
        "outputId": "85157869-cc83-414d-e5df-fbae32050ec4"
      },
      "execution_count": 13,
      "outputs": [
        {
          "name": "stdout",
          "output_type": "stream",
          "text": [
            "Please enter an element of the list or press enter to stop. tree\n",
            "Please enter an element of the list or press enter to stop. plant\n",
            "Please enter an element of the list or press enter to stop. \n"
          ]
        }
      ]
    }
  ],
  "metadata": {
    "colab": {
      "provenance": [],
      "authorship_tag": "ABX9TyMNhPVT88/pQn9bU1ZsD9d0",
      "include_colab_link": true
    },
    "kernelspec": {
      "display_name": "Python 3",
      "name": "python3"
    },
    "language_info": {
      "name": "python"
    },
    "widgets": {
      "application/vnd.jupyter.widget-state+json": {
        "4584e45efd4443ab82d0853ad8bb69ac": {
          "model_module": "@jupyter-widgets/controls",
          "model_name": "VBoxModel",
          "model_module_version": "1.5.0",
          "state": {
            "_dom_classes": [
              "widget-interact"
            ],
            "_model_module": "@jupyter-widgets/controls",
            "_model_module_version": "1.5.0",
            "_model_name": "VBoxModel",
            "_view_count": null,
            "_view_module": "@jupyter-widgets/controls",
            "_view_module_version": "1.5.0",
            "_view_name": "VBoxView",
            "box_style": "",
            "children": [
              "IPY_MODEL_4d13783d24584b22b3d89669b3d37f8e",
              "IPY_MODEL_1cdbafa5b0a641309058e4cb914d1c71",
              "IPY_MODEL_5d7c6298da40498f9b298c03bb37eee6"
            ],
            "layout": "IPY_MODEL_3e392fcd3cdd48a2a53ed57f174e06d1"
          }
        },
        "4d13783d24584b22b3d89669b3d37f8e": {
          "model_module": "@jupyter-widgets/controls",
          "model_name": "IntSliderModel",
          "model_module_version": "1.5.0",
          "state": {
            "_dom_classes": [],
            "_model_module": "@jupyter-widgets/controls",
            "_model_module_version": "1.5.0",
            "_model_name": "IntSliderModel",
            "_view_count": null,
            "_view_module": "@jupyter-widgets/controls",
            "_view_module_version": "1.5.0",
            "_view_name": "IntSliderView",
            "continuous_update": true,
            "description": "mouse_x",
            "description_tooltip": null,
            "disabled": false,
            "layout": "IPY_MODEL_1953b9cb7eff4585b2540899417f9cca",
            "max": 200,
            "min": 0,
            "orientation": "horizontal",
            "readout": true,
            "readout_format": "d",
            "step": 5,
            "style": "IPY_MODEL_2fc78c5db92240ea9498df1fdee58b39",
            "value": 0
          }
        },
        "1cdbafa5b0a641309058e4cb914d1c71": {
          "model_module": "@jupyter-widgets/controls",
          "model_name": "IntSliderModel",
          "model_module_version": "1.5.0",
          "state": {
            "_dom_classes": [],
            "_model_module": "@jupyter-widgets/controls",
            "_model_module_version": "1.5.0",
            "_model_name": "IntSliderModel",
            "_view_count": null,
            "_view_module": "@jupyter-widgets/controls",
            "_view_module_version": "1.5.0",
            "_view_name": "IntSliderView",
            "continuous_update": true,
            "description": "mouse_y",
            "description_tooltip": null,
            "disabled": false,
            "layout": "IPY_MODEL_b51e47230df940eca424e9b607f0f4b4",
            "max": 200,
            "min": 0,
            "orientation": "horizontal",
            "readout": true,
            "readout_format": "d",
            "step": 5,
            "style": "IPY_MODEL_c6f420b1dd384dbeaccae4d78b789bce",
            "value": 0
          }
        },
        "5d7c6298da40498f9b298c03bb37eee6": {
          "model_module": "@jupyter-widgets/output",
          "model_name": "OutputModel",
          "model_module_version": "1.0.0",
          "state": {
            "_dom_classes": [],
            "_model_module": "@jupyter-widgets/output",
            "_model_module_version": "1.0.0",
            "_model_name": "OutputModel",
            "_view_count": null,
            "_view_module": "@jupyter-widgets/output",
            "_view_module_version": "1.0.0",
            "_view_name": "OutputView",
            "layout": "IPY_MODEL_c90b9f62c1df4c32a36fad9ca380f48d",
            "msg_id": "",
            "outputs": [
              {
                "output_type": "display_data",
                "data": {
                  "text/plain": "<Figure size 640x480 with 0 Axes>"
                },
                "metadata": {}
              }
            ]
          }
        },
        "3e392fcd3cdd48a2a53ed57f174e06d1": {
          "model_module": "@jupyter-widgets/base",
          "model_name": "LayoutModel",
          "model_module_version": "1.2.0",
          "state": {
            "_model_module": "@jupyter-widgets/base",
            "_model_module_version": "1.2.0",
            "_model_name": "LayoutModel",
            "_view_count": null,
            "_view_module": "@jupyter-widgets/base",
            "_view_module_version": "1.2.0",
            "_view_name": "LayoutView",
            "align_content": null,
            "align_items": null,
            "align_self": null,
            "border": null,
            "bottom": null,
            "display": null,
            "flex": null,
            "flex_flow": null,
            "grid_area": null,
            "grid_auto_columns": null,
            "grid_auto_flow": null,
            "grid_auto_rows": null,
            "grid_column": null,
            "grid_gap": null,
            "grid_row": null,
            "grid_template_areas": null,
            "grid_template_columns": null,
            "grid_template_rows": null,
            "height": null,
            "justify_content": null,
            "justify_items": null,
            "left": null,
            "margin": null,
            "max_height": null,
            "max_width": null,
            "min_height": null,
            "min_width": null,
            "object_fit": null,
            "object_position": null,
            "order": null,
            "overflow": null,
            "overflow_x": null,
            "overflow_y": null,
            "padding": null,
            "right": null,
            "top": null,
            "visibility": null,
            "width": null
          }
        },
        "1953b9cb7eff4585b2540899417f9cca": {
          "model_module": "@jupyter-widgets/base",
          "model_name": "LayoutModel",
          "model_module_version": "1.2.0",
          "state": {
            "_model_module": "@jupyter-widgets/base",
            "_model_module_version": "1.2.0",
            "_model_name": "LayoutModel",
            "_view_count": null,
            "_view_module": "@jupyter-widgets/base",
            "_view_module_version": "1.2.0",
            "_view_name": "LayoutView",
            "align_content": null,
            "align_items": null,
            "align_self": null,
            "border": null,
            "bottom": null,
            "display": null,
            "flex": null,
            "flex_flow": null,
            "grid_area": null,
            "grid_auto_columns": null,
            "grid_auto_flow": null,
            "grid_auto_rows": null,
            "grid_column": null,
            "grid_gap": null,
            "grid_row": null,
            "grid_template_areas": null,
            "grid_template_columns": null,
            "grid_template_rows": null,
            "height": null,
            "justify_content": null,
            "justify_items": null,
            "left": null,
            "margin": null,
            "max_height": null,
            "max_width": null,
            "min_height": null,
            "min_width": null,
            "object_fit": null,
            "object_position": null,
            "order": null,
            "overflow": null,
            "overflow_x": null,
            "overflow_y": null,
            "padding": null,
            "right": null,
            "top": null,
            "visibility": null,
            "width": null
          }
        },
        "2fc78c5db92240ea9498df1fdee58b39": {
          "model_module": "@jupyter-widgets/controls",
          "model_name": "SliderStyleModel",
          "model_module_version": "1.5.0",
          "state": {
            "_model_module": "@jupyter-widgets/controls",
            "_model_module_version": "1.5.0",
            "_model_name": "SliderStyleModel",
            "_view_count": null,
            "_view_module": "@jupyter-widgets/base",
            "_view_module_version": "1.2.0",
            "_view_name": "StyleView",
            "description_width": "",
            "handle_color": null
          }
        },
        "b51e47230df940eca424e9b607f0f4b4": {
          "model_module": "@jupyter-widgets/base",
          "model_name": "LayoutModel",
          "model_module_version": "1.2.0",
          "state": {
            "_model_module": "@jupyter-widgets/base",
            "_model_module_version": "1.2.0",
            "_model_name": "LayoutModel",
            "_view_count": null,
            "_view_module": "@jupyter-widgets/base",
            "_view_module_version": "1.2.0",
            "_view_name": "LayoutView",
            "align_content": null,
            "align_items": null,
            "align_self": null,
            "border": null,
            "bottom": null,
            "display": null,
            "flex": null,
            "flex_flow": null,
            "grid_area": null,
            "grid_auto_columns": null,
            "grid_auto_flow": null,
            "grid_auto_rows": null,
            "grid_column": null,
            "grid_gap": null,
            "grid_row": null,
            "grid_template_areas": null,
            "grid_template_columns": null,
            "grid_template_rows": null,
            "height": null,
            "justify_content": null,
            "justify_items": null,
            "left": null,
            "margin": null,
            "max_height": null,
            "max_width": null,
            "min_height": null,
            "min_width": null,
            "object_fit": null,
            "object_position": null,
            "order": null,
            "overflow": null,
            "overflow_x": null,
            "overflow_y": null,
            "padding": null,
            "right": null,
            "top": null,
            "visibility": null,
            "width": null
          }
        },
        "c6f420b1dd384dbeaccae4d78b789bce": {
          "model_module": "@jupyter-widgets/controls",
          "model_name": "SliderStyleModel",
          "model_module_version": "1.5.0",
          "state": {
            "_model_module": "@jupyter-widgets/controls",
            "_model_module_version": "1.5.0",
            "_model_name": "SliderStyleModel",
            "_view_count": null,
            "_view_module": "@jupyter-widgets/base",
            "_view_module_version": "1.2.0",
            "_view_name": "StyleView",
            "description_width": "",
            "handle_color": null
          }
        },
        "c90b9f62c1df4c32a36fad9ca380f48d": {
          "model_module": "@jupyter-widgets/base",
          "model_name": "LayoutModel",
          "model_module_version": "1.2.0",
          "state": {
            "_model_module": "@jupyter-widgets/base",
            "_model_module_version": "1.2.0",
            "_model_name": "LayoutModel",
            "_view_count": null,
            "_view_module": "@jupyter-widgets/base",
            "_view_module_version": "1.2.0",
            "_view_name": "LayoutView",
            "align_content": null,
            "align_items": null,
            "align_self": null,
            "border": null,
            "bottom": null,
            "display": null,
            "flex": null,
            "flex_flow": null,
            "grid_area": null,
            "grid_auto_columns": null,
            "grid_auto_flow": null,
            "grid_auto_rows": null,
            "grid_column": null,
            "grid_gap": null,
            "grid_row": null,
            "grid_template_areas": null,
            "grid_template_columns": null,
            "grid_template_rows": null,
            "height": null,
            "justify_content": null,
            "justify_items": null,
            "left": null,
            "margin": null,
            "max_height": null,
            "max_width": null,
            "min_height": null,
            "min_width": null,
            "object_fit": null,
            "object_position": null,
            "order": null,
            "overflow": null,
            "overflow_x": null,
            "overflow_y": null,
            "padding": null,
            "right": null,
            "top": null,
            "visibility": null,
            "width": null
          }
        }
      }
    }
  },
  "nbformat": 4,
  "nbformat_minor": 0
}