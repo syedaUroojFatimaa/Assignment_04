{
  "nbformat": 4,
  "nbformat_minor": 0,
  "metadata": {
    "colab": {
      "provenance": [],
      "authorship_tag": "ABX9TyMGKJRRIpt8b96f7M1JSFNM",
      "include_colab_link": true
    },
    "kernelspec": {
      "name": "python3",
      "display_name": "Python 3"
    },
    "language_info": {
      "name": "python"
    }
  },
  "cells": [
    {
      "cell_type": "markdown",
      "metadata": {
        "id": "view-in-github",
        "colab_type": "text"
      },
      "source": [
        "<a href=\"https://colab.research.google.com/github/syedaUroojFatimaa/Assignment_04/blob/main/06_functions.ipynb\" target=\"_parent\"><img src=\"https://colab.research.google.com/assets/colab-badge.svg\" alt=\"Open In Colab\"/></a>"
      ]
    },
    {
      "cell_type": "code",
      "execution_count": null,
      "metadata": {
        "colab": {
          "base_uri": "https://localhost:8080/"
        },
        "id": "Xtm-vxSMLxyn",
        "outputId": "4200bcc0-d9b7-49e2-9e1d-5123c7d7992f"
      },
      "outputs": [
        {
          "output_type": "stream",
          "name": "stdout",
          "text": [
            "avg_1 5.0\n",
            "avg_2 9.0\n",
            "final 7.0\n"
          ]
        }
      ],
      "source": [
        "def average(a: float, b: float):\n",
        "\n",
        "    sum = a + b\n",
        "    return sum / 2\n",
        "\n",
        "def main():\n",
        "    avg_1 = average(0, 10)\n",
        "    avg_2 = average(8, 10)\n",
        "\n",
        "    final = average(avg_1, avg_2)\n",
        "    print(\"avg_1\", avg_1)\n",
        "    print(\"avg_2\", avg_2)\n",
        "    print(\"final\", final)\n",
        "\n",
        "if __name__ == '__main__':\n",
        "    main()"
      ]
    },
    {
      "cell_type": "code",
      "source": [
        "import random\n",
        "\n",
        "DONE_LIKELIHOOD = 0.5\n",
        "\n",
        "def done():\n",
        "    return random.random() < DONE_LIKELIHOOD\n",
        "\n",
        "def chaotic_counting():\n",
        "    for i in range(10):\n",
        "        curr_num = i + 1\n",
        "        if done():\n",
        "            return\n",
        "        print(curr_num)\n",
        "\n",
        "def main():\n",
        "    print(\"I'm going to count until 10 or until I feel like stopping, whichever comes first.\")\n",
        "    chaotic_counting()\n",
        "    print(\"I'm done.\")\n",
        "\n",
        "if __name__ == \"__main__\":\n",
        "    main()\n"
      ],
      "metadata": {
        "colab": {
          "base_uri": "https://localhost:8080/"
        },
        "id": "ishh4HG6MIpU",
        "outputId": "fb957c1a-e999-4e25-c893-13c197c56408"
      },
      "execution_count": null,
      "outputs": [
        {
          "output_type": "stream",
          "name": "stdout",
          "text": [
            "I'm going to count until 10 or until I feel like stopping, whichever comes first.\n",
            "1\n",
            "2\n",
            "3\n",
            "I'm done.\n"
          ]
        }
      ]
    },
    {
      "cell_type": "code",
      "source": [
        "\n",
        "def count_even(lst):\n",
        "\n",
        "    count = 0\n",
        "    for num in lst:\n",
        "        if num % 2 == 0:\n",
        "            count += 1\n",
        "\n",
        "    print(count)\n",
        "def get_list_of_ints():\n",
        "\n",
        "    lst = []\n",
        "    user_input = input(\"Enter an integer or press enter to stop: \")\n",
        "    while user_input != \"\":\n",
        "        lst.append(int(user_input))\n",
        "        user_input = input(\"Enter an integer or press enter to stop: \")\n",
        "\n",
        "    return lst\n",
        "\n",
        "def main():\n",
        "    lst = get_list_of_ints()\n",
        "    count_even(lst)\n",
        "\n",
        "if __name__ == '__main__':\n",
        "    main()"
      ],
      "metadata": {
        "colab": {
          "base_uri": "https://localhost:8080/"
        },
        "id": "Ymryef1zMtzz",
        "outputId": "7b2a2838-9737-4b4b-925d-c54547af5197"
      },
      "execution_count": null,
      "outputs": [
        {
          "output_type": "stream",
          "name": "stdout",
          "text": [
            "Enter an integer or press enter to stop: 6\n",
            "Enter an integer or press enter to stop: 5\n",
            "Enter an integer or press enter to stop: 4\n",
            "Enter an integer or press enter to stop: 2\n",
            "Enter an integer or press enter to stop: 1\n",
            "Enter an integer or press enter to stop: 9\n",
            "Enter an integer or press enter to stop: \n",
            "3\n"
          ]
        }
      ]
    },
    {
      "cell_type": "code",
      "source": [
        "def double(num: int):\n",
        "    return num * 2\n",
        "\n",
        "def main():\n",
        "    num = int(input(\"Enter a number: \"))\n",
        "    num_times_2 = double(num)\n",
        "    print(\"Double that is\", num_times_2)\n",
        "\n",
        "if __name__ == '__main__':\n",
        "    main()"
      ],
      "metadata": {
        "colab": {
          "base_uri": "https://localhost:8080/"
        },
        "id": "aPYC_7GLNS4C",
        "outputId": "255b8f25-5104-4193-c781-50a460374fb1"
      },
      "execution_count": null,
      "outputs": [
        {
          "output_type": "stream",
          "name": "stdout",
          "text": [
            "Enter a number: 6\n",
            "Double that is 12\n"
          ]
        }
      ]
    },
    {
      "cell_type": "code",
      "source": [
        "def get_name():\n",
        "    return \"Urooj Fatima\"\n",
        "\n",
        "def main():\n",
        "    name = get_name()\n",
        "    print(\"Howdy\", name, \"!\")\n",
        "\n",
        "if __name__ == '__main__':\n",
        "    main()"
      ],
      "metadata": {
        "colab": {
          "base_uri": "https://localhost:8080/"
        },
        "id": "n1GA3XqaNmQF",
        "outputId": "b7c4ff65-d84e-48a6-c65c-00bf46ab5d39"
      },
      "execution_count": null,
      "outputs": [
        {
          "output_type": "stream",
          "name": "stdout",
          "text": [
            "Howdy Urooj Fatima !\n"
          ]
        }
      ]
    },
    {
      "cell_type": "code",
      "source": [
        "def main():\n",
        "    for i in range(10):\n",
        "        if is_odd(i):\n",
        "            print('odd')\n",
        "        else:\n",
        "            print('even')\n",
        "\n",
        "def is_odd(value: int):\n",
        "\n",
        "    remainder = value % 2\n",
        "    return remainder == 1\n",
        "\n",
        "if __name__ == '__main__':\n",
        "    main()"
      ],
      "metadata": {
        "colab": {
          "base_uri": "https://localhost:8080/"
        },
        "id": "fwaFTNFtOBT5",
        "outputId": "cbf2ba76-c292-496c-abdc-40c00e7ad8ab"
      },
      "execution_count": null,
      "outputs": [
        {
          "output_type": "stream",
          "name": "stdout",
          "text": [
            "even\n",
            "odd\n",
            "even\n",
            "odd\n",
            "even\n",
            "odd\n",
            "even\n",
            "odd\n",
            "even\n",
            "odd\n"
          ]
        }
      ]
    },
    {
      "cell_type": "code",
      "source": [
        "def print_divisors(num: int):\n",
        "    print(\"Here are the divisors of\", num)\n",
        "    for i in range(num):\n",
        "        curr_divisor = i + 1\n",
        "        if num % curr_divisor == 0:\n",
        "            print(curr_divisor)\n",
        "\n",
        "def main():\n",
        "    num = int(input(\"Enter a number: \"))\n",
        "    print_divisors(num)\n",
        "\n",
        "if __name__ == '__main__':\n",
        "    main()"
      ],
      "metadata": {
        "colab": {
          "base_uri": "https://localhost:8080/"
        },
        "id": "jYFOmpc4OctS",
        "outputId": "64b4414f-7960-4c24-f41c-57e692f73344"
      },
      "execution_count": null,
      "outputs": [
        {
          "output_type": "stream",
          "name": "stdout",
          "text": [
            "Enter a number: 24\n",
            "Here are the divisors of 24\n",
            "1\n",
            "2\n",
            "3\n",
            "4\n",
            "6\n",
            "8\n",
            "12\n",
            "24\n"
          ]
        }
      ]
    },
    {
      "cell_type": "code",
      "source": [
        "def print_multiple(message: str, repeats: int):\n",
        "    for _ in range(repeats):\n",
        "        print(message)\n",
        "\n",
        "def main():\n",
        "    message = input(\"Please type a message: \")\n",
        "\n",
        "    try:\n",
        "        repeats = int(input(\"Enter a number of times to repeat your message: \"))\n",
        "        if repeats < 0:\n",
        "            print(\"Please enter a positive number for repeats.\")\n",
        "        else:\n",
        "            print_multiple(message, repeats)\n",
        "    except ValueError:\n",
        "        print(\"Invalid input! Please enter a valid integer for repeats.\")\n",
        "\n",
        "if __name__ == '__main__':\n",
        "    main()\n"
      ],
      "metadata": {
        "colab": {
          "base_uri": "https://localhost:8080/"
        },
        "id": "yDKNTCOEOwda",
        "outputId": "4b278e1e-5da9-4481-9f89-a46ef2130b54"
      },
      "execution_count": null,
      "outputs": [
        {
          "output_type": "stream",
          "name": "stdout",
          "text": [
            "Please type a message: hello i am an alien\n",
            "Enter a number of times to repeat your message: 3\n",
            "hello i am an alien\n",
            "hello i am an alien\n",
            "hello i am an alien\n"
          ]
        }
      ]
    },
    {
      "cell_type": "code",
      "source": [
        "def make_sentence(word: str, part_of_speech: int) -> None:\n",
        "    \"\"\"Generates a sentence based on the given word and part of speech.\"\"\"\n",
        "    sentences = {\n",
        "        0: f\"I am excited to add this {word} to my vast collection of them!\",\n",
        "        1: f\"It's so nice outside today it makes me want to {word}!\",\n",
        "        2: f\"Looking out my window, the sky is big and {word}!\"\n",
        "    }\n",
        "\n",
        "    print(sentences.get(part_of_speech, \"Invalid input! Please enter 0 for noun, 1 for verb, or 2 for adjective.\"))\n",
        "\n",
        "\n",
        "def main() -> None:\n",
        "    \"\"\"Handles user input and generates a sentence.\"\"\"\n",
        "    word = input(\"Enter a word (noun, verb, or adjective): \").strip()\n",
        "\n",
        "    while True:\n",
        "        try:\n",
        "            part_of_speech = int(input(\"Enter 0 for noun, 1 for verb, or 2 for adjective: \").strip())\n",
        "            if part_of_speech in {0, 1, 2}:\n",
        "                break\n",
        "            else:\n",
        "                print(\"Invalid choice! Please enter 0, 1, or 2.\")\n",
        "        except ValueError:\n",
        "            print(\"Invalid input! Please enter a number (0, 1, or 2).\")\n",
        "\n",
        "    make_sentence(word, part_of_speech)\n",
        "\n",
        "\n",
        "if __name__ == \"__main__\":\n",
        "    main()\n"
      ],
      "metadata": {
        "colab": {
          "base_uri": "https://localhost:8080/"
        },
        "id": "SCQiEaqzEHbx",
        "outputId": "81a7dd9c-d22b-4a68-f147-91c1eb19c5ae"
      },
      "execution_count": 4,
      "outputs": [
        {
          "output_type": "stream",
          "name": "stdout",
          "text": [
            "Enter a word (noun, verb, or adjective): pretty\n",
            "Enter 0 for noun, 1 for verb, or 2 for adjective: 2\n",
            "Looking out my window, the sky is big and pretty!\n"
          ]
        }
      ]
    },
    {
      "cell_type": "code",
      "source": [
        "def print_ones_digit(num: int) -> None:\n",
        "    \"\"\"Prints the ones digit of the given integer.\"\"\"\n",
        "    print(f\"The ones digit is {num % 10}\")\n",
        "\n",
        "def main() -> None:\n",
        "    \"\"\"Gets user input, validates it, and prints the ones digit.\"\"\"\n",
        "    while True:\n",
        "        try:\n",
        "            num = int(input(\"Enter a number: \").strip())\n",
        "            break\n",
        "        except ValueError:\n",
        "            print(\"Invalid input! Please enter an integer.\")\n",
        "\n",
        "    print_ones_digit(num)\n",
        "\n",
        "if __name__ == '__main__':\n",
        "    main()\n"
      ],
      "metadata": {
        "colab": {
          "base_uri": "https://localhost:8080/"
        },
        "id": "zWspRdCvFK_Z",
        "outputId": "416ba6a5-40c7-4466-da95-a4c62deb53cc"
      },
      "execution_count": 6,
      "outputs": [
        {
          "output_type": "stream",
          "name": "stdout",
          "text": [
            "Enter a number: 456\n",
            "The ones digit is 6\n"
          ]
        }
      ]
    }
  ]
}