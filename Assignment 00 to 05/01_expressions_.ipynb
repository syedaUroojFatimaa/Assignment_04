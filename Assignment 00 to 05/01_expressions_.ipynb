{
  "nbformat": 4,
  "nbformat_minor": 0,
  "metadata": {
    "colab": {
      "provenance": [],
      "authorship_tag": "ABX9TyMgMF4LhLPIRlOCN1XrpY5V",
      "include_colab_link": true
    },
    "kernelspec": {
      "name": "python3",
      "display_name": "Python 3"
    },
    "language_info": {
      "name": "python"
    }
  },
  "cells": [
    {
      "cell_type": "markdown",
      "metadata": {
        "id": "view-in-github",
        "colab_type": "text"
      },
      "source": [
        "<a href=\"https://colab.research.google.com/github/syedaUroojFatimaa/Assignment_04/blob/main/01_expressions_.ipynb\" target=\"_parent\"><img src=\"https://colab.research.google.com/assets/colab-badge.svg\" alt=\"Open In Colab\"/></a>"
      ]
    },
    {
      "cell_type": "code",
      "execution_count": 17,
      "metadata": {
        "colab": {
          "base_uri": "https://localhost:8080/"
        },
        "id": "FEOcUPNCOG_Z",
        "outputId": "d4f9654b-1966-4ad7-b006-740bb995f5f5"
      },
      "outputs": [
        {
          "output_type": "stream",
          "name": "stdout",
          "text": [
            "die1 in main() starts as: 10\n",
            "Total of two dice: 4\n",
            "Total of two dice: 6\n",
            "Total of two dice: 8\n",
            "die1 in main() is: 10\n"
          ]
        }
      ],
      "source": [
        "import random\n",
        "\n",
        "NUM_SIDES = 6\n",
        "\n",
        "def roll_dice():\n",
        "    \"\"\"\n",
        "    Simulates rolling two dice and prints their total\n",
        "    \"\"\"\n",
        "    die1: int = random.randint(1, NUM_SIDES)\n",
        "    die2: int = random.randint(1, NUM_SIDES)\n",
        "    total: int = die1 + die2\n",
        "    print(\"Total of two dice:\", total)\n",
        "\n",
        "def main():\n",
        "    die1: int = 10\n",
        "    print(\"die1 in main() starts as: \" + str(die1))\n",
        "    roll_dice()\n",
        "    roll_dice()\n",
        "    roll_dice()\n",
        "    print(\"die1 in main() is: \" + str(die1))\n",
        "\n",
        "if __name__ == '__main__':\n",
        "    main()"
      ]
    },
    {
      "cell_type": "code",
      "source": [
        "C = 299_792_458  # meters per second\n",
        "\n",
        "def main():\n",
        "    while True:\n",
        "        try:\n",
        "            # Get mass input from the user\n",
        "            mass = float(input(\"\\nEnter kilos of mass (or type 0 to exit): \"))\n",
        "\n",
        "            if mass == 0:\n",
        "                print(\"Exiting the program.\")\n",
        "                break  # Exit loop if the user enters 0\n",
        "\n",
        "            # Calculate energy using E = m * C^2\n",
        "            energy = mass * (C ** 2)\n",
        "\n",
        "            # Display results with proper formatting\n",
        "            print(\"\\ne = m * C^2...\")\n",
        "            print(f\"m = {mass} kg\")\n",
        "            print(f\"C = {C} m/s\")\n",
        "            print(f\"{energy:.6e} joules of energy!\\n\")  # Scientific notation\n",
        "\n",
        "        except ValueError:\n",
        "            print(\"Invalid input! Please enter a valid number.\")\n",
        "\n",
        "# Call the main function\n",
        "if __name__ == '__main__':\n",
        "    main()\n"
      ],
      "metadata": {
        "colab": {
          "base_uri": "https://localhost:8080/"
        },
        "id": "m6-DAQJRQwXZ",
        "outputId": "6532dd87-e0da-476c-9c58-258ecdf99460"
      },
      "execution_count": 9,
      "outputs": [
        {
          "output_type": "stream",
          "name": "stdout",
          "text": [
            "\n",
            "Enter kilos of mass (or type 0 to exit): 87\n",
            "\n",
            "e = m * C^2...\n",
            "m = 87.0 kg\n",
            "C = 299792458 m/s\n",
            "7.819170e+18 joules of energy!\n",
            "\n",
            "\n",
            "Enter kilos of mass (or type 0 to exit): 9\n",
            "\n",
            "e = m * C^2...\n",
            "m = 9.0 kg\n",
            "C = 299792458 m/s\n",
            "8.088797e+17 joules of energy!\n",
            "\n",
            "\n",
            "Enter kilos of mass (or type 0 to exit): 1009\n",
            "\n",
            "e = m * C^2...\n",
            "m = 1009.0 kg\n",
            "C = 299792458 m/s\n",
            "9.068440e+19 joules of energy!\n",
            "\n",
            "\n",
            "Enter kilos of mass (or type 0 to exit): 0\n",
            "Exiting the program.\n"
          ]
        }
      ]
    },
    {
      "cell_type": "code",
      "source": [
        "INCHES_IN_FOOT: int = 12\n",
        "\n",
        "def main():\n",
        "    feet: float = float(input(\"Enter number of feet: \"))\n",
        "    inches: float = feet * INCHES_IN_FOOT\n",
        "    print(\"That is\", inches, \"inches!\")\n",
        "\n",
        "\n",
        "if __name__ == '__main__':\n",
        "    main()"
      ],
      "metadata": {
        "colab": {
          "base_uri": "https://localhost:8080/"
        },
        "id": "7g7KPuwPRMHb",
        "outputId": "7abff3d9-59ee-4dc1-e8ee-f1ae586eee26"
      },
      "execution_count": 10,
      "outputs": [
        {
          "output_type": "stream",
          "name": "stdout",
          "text": [
            "Enter number of feet: 67\n",
            "That is 804.0 inches!\n"
          ]
        }
      ]
    },
    {
      "cell_type": "code",
      "source": [
        "import math\n",
        "\n",
        "def main():\n",
        "    ab: float = float(input(\"Enter the length of AB: \"))\n",
        "    ac: float = float(input(\"Enter the length of AC: \"))\n",
        "\n",
        "    bc: float = math.sqrt(ab**2 + ac**2)\n",
        "    print(\"The length of BC (the hypotenuse) is: \" + str(bc))\n",
        "\n",
        "if __name__ == '__main__':\n",
        "    main()"
      ],
      "metadata": {
        "colab": {
          "base_uri": "https://localhost:8080/"
        },
        "id": "cM3cu0m9RsE4",
        "outputId": "1601e9c9-3e56-4f90-8d54-ad646b26373b"
      },
      "execution_count": 11,
      "outputs": [
        {
          "output_type": "stream",
          "name": "stdout",
          "text": [
            "Enter the length of AB: 5\n",
            "Enter the length of AC: 7\n",
            "The length of BC (the hypotenuse) is: 8.602325267042627\n"
          ]
        }
      ]
    },
    {
      "cell_type": "code",
      "source": [
        "def main():\n",
        "    dividend: int = int(input(\"Please enter an integer to be divided: \"))\n",
        "    divisor: int = int(input(\"Please enter an integer to divide by: \"))\n",
        "\n",
        "    quotient: int = dividend // divisor\n",
        "    remainder: int = dividend % divisor\n",
        "    print(\"The result of this division is \" + str(quotient) + \" with a remainder of \" + str(remainder))\n",
        "\n",
        "if __name__ == '__main__':\n",
        "    main()\n"
      ],
      "metadata": {
        "colab": {
          "base_uri": "https://localhost:8080/"
        },
        "id": "jxI6RqKuR3TE",
        "outputId": "d8766bd6-1d70-47fc-a35e-b851aa8db2b2"
      },
      "execution_count": 13,
      "outputs": [
        {
          "output_type": "stream",
          "name": "stdout",
          "text": [
            "Please enter an integer to be divided: 4\n",
            "Please enter an integer to divide by: 3\n",
            "The result of this division is 1 with a remainder of 1\n"
          ]
        }
      ]
    },
    {
      "cell_type": "code",
      "source": [
        "import random\n",
        "\n",
        "NUM_SIDES: int = 6\n",
        "\n",
        "def main():\n",
        "\n",
        "    die1: int = random.randint(1, NUM_SIDES)\n",
        "    die2: int = random.randint(1, NUM_SIDES)\n",
        "\n",
        "    total: int = die1 + die2\n",
        "\n",
        "    print(\"Dice have\", NUM_SIDES, \"sides each.\")\n",
        "    print(\"First die:\", die1)\n",
        "    print(\"Second die:\", die2)\n",
        "    print(\"Total of two dice:\", total)\n",
        "\n",
        "\n",
        "if __name__ == '__main__':\n",
        "    main()\n"
      ],
      "metadata": {
        "colab": {
          "base_uri": "https://localhost:8080/"
        },
        "id": "UsJ7qnFtSPbD",
        "outputId": "e4a614fb-9be3-4a6c-8b56-e30cedb817bc"
      },
      "execution_count": 14,
      "outputs": [
        {
          "output_type": "stream",
          "name": "stdout",
          "text": [
            "Dice have 6 sides each.\n",
            "First die: 1\n",
            "Second die: 2\n",
            "Total of two dice: 3\n"
          ]
        }
      ]
    },
    {
      "cell_type": "code",
      "source": [
        "SENTENCE_START = \"Panaversity is fun. I learned to program and used Python to make my\"\n",
        "\n",
        "def main():\n",
        "    adjective = input(\"Please type an adjective and press Enter: \").strip()\n",
        "    noun = input(\"Please type a noun and press Enter: \").strip()\n",
        "    verb = input(\"Please type a verb and press Enter: \").strip()\n",
        "\n",
        "    print(f\"\\n{SENTENCE_START} {adjective} {noun} {verb}!\\n\")\n",
        "\n",
        "if __name__ == '__main__':\n",
        "    main()\n"
      ],
      "metadata": {
        "colab": {
          "base_uri": "https://localhost:8080/"
        },
        "id": "bNIF5gYZSoVE",
        "outputId": "71364954-8483-4a0e-b8ef-cc42f2fd6744"
      },
      "execution_count": 16,
      "outputs": [
        {
          "output_type": "stream",
          "name": "stdout",
          "text": [
            "Please type an adjective and press Enter: tiny\n",
            "Please type a noun and press Enter: plant\n",
            "Please type a verb and press Enter: f;y\n",
            "\n",
            "Panaversity is fun. I learned to program and used Python to make my tiny plant f;y!\n",
            "\n"
          ]
        }
      ]
    }
  ]
}